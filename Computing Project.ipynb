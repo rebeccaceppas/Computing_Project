{
 "cells": [
  {
   "cell_type": "code",
   "execution_count": null,
   "metadata": {},
   "outputs": [],
   "source": [
    "import astropy.io.fits as fits\n",
    "from astropy.cosmology import Planck15\n",
    "import astropy.units as u\n",
    "import astropy.constants as c\n",
    "from astropy.visualization import simple_norm\n",
    "from astropy.modeling import models\n",
    "from astropy.convolution import convolve\n",
    "\n",
    "import os\n",
    "import time\n",
    "import matplotlib.pyplot as plt\n",
    "from matplotlib.colors import LogNorm\n",
    "plt.rcParams['xtick.labelsize'] = 14.0\n",
    "plt.rcParams['ytick.labelsize'] = 14.0\n",
    "import numpy as np\n",
    "\n",
    "import photutils\n",
    "from photutils.aperture import CircularAperture\n",
    "from photutils.aperture import aperture_photometry\n",
    "\n",
    "import scipy.ndimage as ndi\n",
    "import statmorph\n",
    "from statmorph.utils.image_diagnostics import make_figure"
   ]
  },
  {
   "cell_type": "code",
   "execution_count": null,
   "metadata": {},
   "outputs": [],
   "source": [
    "path = os.getcwd()"
   ]
  },
  {
   "cell_type": "code",
   "execution_count": null,
   "metadata": {},
   "outputs": [],
   "source": [
    "def open_file(file_name, path):\n",
    "    '''Extracts data and header info from a fits file\n",
    "    \n",
    "    Parameters:\n",
    "    file_name <str>: name of file to open with extension\n",
    "    path <str>: directory were the file is located\n",
    "    \n",
    "    Returns:\n",
    "    data <ndarray>: data from the fits file\n",
    "    hdr: header with information on the data\n",
    "    '''\n",
    "    file = path + file_name\n",
    "    hdul = fits.open(file)\n",
    "    hdr = hdul[0].header\n",
    "    data = hdul[0].data\n",
    "    hdul.close()\n",
    "    return data, hdr"
   ]
  },
  {
   "cell_type": "markdown",
   "metadata": {},
   "source": [
    "# 1. Visualizing the galaxy"
   ]
  },
  {
   "cell_type": "markdown",
   "metadata": {},
   "source": [
    "## Extracting the data and creating plots (1,2)"
   ]
  },
  {
   "cell_type": "code",
   "execution_count": null,
   "metadata": {},
   "outputs": [],
   "source": [
    "data, hdr = open_file('/galaxy_hydro.fits', path)"
   ]
  },
  {
   "cell_type": "code",
   "execution_count": null,
   "metadata": {},
   "outputs": [],
   "source": [
    "# extracting data for each of the components of the galaxy\n",
    "stellar_mass = data[0]\n",
    "form_rate = data[1]\n",
    "gas_mass = data[2]\n",
    "dust_mass = data[3]"
   ]
  },
  {
   "cell_type": "code",
   "execution_count": null,
   "metadata": {},
   "outputs": [],
   "source": [
    "plt.figure(figsize=(10,10))\n",
    "plt.imshow(stellar_mass, cmap='magma', \n",
    "           norm=simple_norm(stellar_mass, stretch='log'))\n",
    "plt.contour(dust_mass, cmap='Greens', \n",
    "            norm=simple_norm(dust_mass, stretch='log'), linewidths=2)\n",
    "plt.title('Stellar Mass and Dust Mass Countour', fontsize=20)\n",
    "plt.xlim(40, 150)\n",
    "plt.ylim(160, 25)\n",
    "#plt.savefig('contour1.pdf')\n",
    "plt.show()"
   ]
  },
  {
   "cell_type": "code",
   "execution_count": null,
   "metadata": {},
   "outputs": [],
   "source": [
    "plt.figure(figsize=(10,10))\n",
    "plt.imshow(form_rate, cmap='magma', \n",
    "           norm=simple_norm(form_rate, stretch='log'))\n",
    "plt.contour(gas_mass, cmap='Greens', \n",
    "            norm=simple_norm(stellar_mass, stretch='log'), linewidths=2)\n",
    "plt.xlim(40, 150)\n",
    "plt.ylim(160, 25)\n",
    "plt.title('Star Formation Rate and Gas Mass Contour', fontsize=20)\n",
    "#plt.savefig('contour2.pdf')\n",
    "plt.show()"
   ]
  },
  {
   "cell_type": "markdown",
   "metadata": {},
   "source": [
    "## Calculating total stellar, dust, gas masses and star formation rate (3)"
   ]
  },
  {
   "cell_type": "code",
   "execution_count": null,
   "metadata": {},
   "outputs": [],
   "source": [
    "stellar_t = np.sum(stellar_mass) * u.M_sun\n",
    "dust_t = np.sum(dust_mass) * u.M_sun\n",
    "gas_t = np.sum(gas_mass) * u.M_sun\n",
    "rate_t = np.sum(form_rate) * u.M_sun * u.yr**(-1)"
   ]
  },
  {
   "cell_type": "code",
   "execution_count": null,
   "metadata": {},
   "outputs": [],
   "source": [
    "print('Total Stellar Mass:')\n",
    "stellar_t"
   ]
  },
  {
   "cell_type": "code",
   "execution_count": null,
   "metadata": {},
   "outputs": [],
   "source": [
    "print('Total Dust Mass:')\n",
    "dust_t"
   ]
  },
  {
   "cell_type": "code",
   "execution_count": null,
   "metadata": {},
   "outputs": [],
   "source": [
    "print('Total Gas Mass:')\n",
    "gas_t"
   ]
  },
  {
   "cell_type": "code",
   "execution_count": null,
   "metadata": {},
   "outputs": [],
   "source": [
    "print('Star Formation Rate of Galaxy:')\n",
    "rate_t"
   ]
  },
  {
   "cell_type": "markdown",
   "metadata": {},
   "source": [
    "## Plotting the galaxy at different wavelengths (1)"
   ]
  },
  {
   "cell_type": "code",
   "execution_count": null,
   "metadata": {},
   "outputs": [],
   "source": [
    "data_wav, hdr_wav = open_file('/galaxy_allwav.fits', path)\n",
    "data_wav = data_wav[0]"
   ]
  },
  {
   "cell_type": "code",
   "execution_count": null,
   "metadata": {},
   "outputs": [],
   "source": [
    "# extracting wavelengths from the header\n",
    "wavelengths = np.array([hdr_wav['IWAV{}'.format(i)] for i in range(20)]) * u.micron"
   ]
  },
  {
   "cell_type": "code",
   "execution_count": null,
   "metadata": {},
   "outputs": [],
   "source": [
    "# picking a few wavelengths to plot\n",
    "ultraviolet = data_wav[0] \n",
    "red = data_wav[1]   \n",
    "blue = data_wav[3]  \n",
    "infrared = data_wav[11] \n",
    "far_infrared = data_wav[15] \n",
    "microwave = data_wav[17]"
   ]
  },
  {
   "cell_type": "code",
   "execution_count": null,
   "metadata": {},
   "outputs": [],
   "source": [
    "fig, ax = plt.subplots(2, 3, figsize=(14, 10), sharex=True, sharey=True) \n",
    "\n",
    "ax[0,0].imshow(ultraviolet, cmap='magma')\n",
    "ax[0,0].set_title('Ultraviolet', fontsize=18) \n",
    "\n",
    "ax[0,1].imshow(blue, cmap='magma')\n",
    "ax[0,1].set_title('Blue', fontsize=18) \n",
    "\n",
    "ax[0,2].imshow(red, cmap='magma')\n",
    "ax[0,2].set_title('Red', fontsize=18) \n",
    "\n",
    "ax[1,0].imshow(infrared, cmap='magma')\n",
    "ax[1,0].set_title('Infrared', fontsize=18) \n",
    "\n",
    "ax[1,1].imshow(far_infrared, cmap='magma')\n",
    "ax[1,1].set_title('Far-Infrared', fontsize=18)\n",
    "\n",
    "ax[1,2].imshow(microwave, cmap='magma')\n",
    "ax[1,2].set_title('Microwave', fontsize=18) \n",
    "\n",
    "plt.tight_layout() \n",
    "#plt.savefig('wavs.pdf')\n",
    "plt.show()"
   ]
  },
  {
   "cell_type": "code",
   "execution_count": null,
   "metadata": {},
   "outputs": [],
   "source": [
    "# plotting the far_infrared vs the ultraviolet to show difference in flux measured\n",
    "\n",
    "fig, ax = plt.subplots(1, 2, figsize=(12, 8), sharey=True) \n",
    "\n",
    "ax[0].imshow(ultraviolet, cmap='magma', \n",
    "             norm=simple_norm(ultraviolet, stretch='linear'))\n",
    "ax[0].set_title('Ultraviolet', fontsize=16) \n",
    "\n",
    "ax[1].imshow(far_infrared, cmap='magma', \n",
    "             norm=simple_norm(ultraviolet, stretch='linear'))\n",
    "ax[1].set_title('Far-Infrared', fontsize=16) \n",
    "\n",
    "plt.tight_layout() \n",
    "#plt.savefig('compare.pdf')\n",
    "plt.show()"
   ]
  },
  {
   "cell_type": "markdown",
   "metadata": {},
   "source": [
    "## Finding the flux as a function of wavelength (2)"
   ]
  },
  {
   "cell_type": "code",
   "execution_count": null,
   "metadata": {},
   "outputs": [],
   "source": [
    "fluxes = np.zeros(data_wav.shape[0])\n",
    "for i in range(data_wav.shape[0]):\n",
    "    dat = data_wav[i]\n",
    "    fluxes[i] = np.sum(dat)"
   ]
  },
  {
   "cell_type": "code",
   "execution_count": null,
   "metadata": {},
   "outputs": [],
   "source": [
    "gamma = (-100, (1e-12*u.m).to(u.micron).value)\n",
    "xray = ((1*u.pm).to(u.micron).value, (1*u.nm).to(u.micron).value)\n",
    "uv = ((1*u.nm).to(u.micron).value, (400*u.nm).to(u.micron).value)\n",
    "vis = ((400*u.nm).to(u.micron).value, (750*u.nm).to(u.micron).value)\n",
    "near = ((750*u.nm).to(u.micron).value, (2.5*u.micron).value)\n",
    "inf = ((2.5*u.micron).value, (25*u.micron).value)\n",
    "micro = ((25*u.micron).value, (1*u.mm).to(u.micron).value)\n",
    "radio = ((1*u.mm).to(u.micron).value, 2000)"
   ]
  },
  {
   "cell_type": "code",
   "execution_count": null,
   "metadata": {},
   "outputs": [],
   "source": [
    "plt.figure(figsize=(10,7))\n",
    "plt.plot(wavelengths, fluxes, 'p', color='black')\n",
    "\n",
    "\"\"\"plt.axvspan(uv[0], uv[1], alpha=0.2, label='ultraviolet', color='royalblue')\n",
    "plt.axvspan(vis[0], vis[1], alpha=0.2, label='optical', color='green')\n",
    "plt.axvspan(near[0], near[1], alpha=0.2, label='near-infrared', color='yellow')\n",
    "plt.axvspan(inf[0], inf[1], alpha=0.2, label='infrared', color='red')\n",
    "plt.axvspan(micro[0], micro[1], alpha=0.2, label='far_infrared', color='purple')\n",
    "plt.axvspan(radio[0], radio[1], alpha=0.2, label='microwaves', color='pink')\"\"\"\n",
    "\n",
    "plt.grid(alpha=0.2)\n",
    "plt.xlabel(r'Wavelength [$\\mu$m]', fontsize=20)\n",
    "plt.ylabel(r'Flux [arb]', fontsize=20)\n",
    "plt.yscale('log')\n",
    "plt.xscale('log')\n",
    "plt.title('Flux of the Galaxy as a Function of Wavelength', fontsize=20)\n",
    "#plt.legend()\n",
    "plt.xlim(0.1, 1700)\n",
    "#plt.savefig('flux.pdf')\n",
    "plt.show()"
   ]
  },
  {
   "cell_type": "markdown",
   "metadata": {},
   "source": [
    "# 2. Galaxy Size"
   ]
  },
  {
   "cell_type": "markdown",
   "metadata": {},
   "source": [
    "## Half-Mass Size"
   ]
  },
  {
   "cell_type": "code",
   "execution_count": null,
   "metadata": {},
   "outputs": [],
   "source": [
    "# setting up variables for the aperture photometry of the total mass of the galaxy\n",
    "all_masses = stellar_mass + dust_mass + gas_mass\n",
    "radii = np.linspace(1, 100, 1000)\n",
    "position = (96., 104.)   # approximately the center of the galaxy"
   ]
  },
  {
   "cell_type": "code",
   "execution_count": null,
   "metadata": {},
   "outputs": [],
   "source": [
    "# performing aperture photometry for r=10\n",
    "aperture = CircularAperture(position, r=10)\n",
    "phot_table = aperture_photometry(all_masses, aperture)\n",
    "phot_table['aperture_sum'].info.format = '%.8g'\n",
    "print(phot_table)"
   ]
  },
  {
   "cell_type": "code",
   "execution_count": null,
   "metadata": {},
   "outputs": [],
   "source": [
    "def half_size(dat, position, plot=True):\n",
    "    '''Finds the half size of the galaxy provided the approximate position of its center\n",
    "    \n",
    "    Parameters:\n",
    "    dat <ndarray>: contains the galaxy data\n",
    "    position <tuple>: approximate coordinates of the center of the galaxy\n",
    "    plot <bool>: Determines if a plot is created or not\n",
    "    \n",
    "    Returns:\n",
    "    radii[ind] <float>: half-size measurement in pixels\n",
    "    '''\n",
    "    diff = []\n",
    "    half = np.sum(dat)/2\n",
    "    radii = np.linspace(1, 100, 1000)\n",
    "    for i, rad in enumerate(radii):\n",
    "        aperture = CircularAperture(position, r=rad)\n",
    "        phot_table = aperture_photometry(dat, aperture)\n",
    "        value = phot_table['aperture_sum'][0]\n",
    "        d = value - half\n",
    "        diff.append(np.abs(d))\n",
    "    ind = np.where(diff == min(diff))\n",
    "                \n",
    "    if plot:\n",
    "        fig, ax = plt.subplots(figsize=(10,10))\n",
    "        plt.imshow(dat, cmap='magma', norm=simple_norm(dat, stretch='log'))\n",
    "        circ = plt.Circle((position[1], position[0]), radii[ind], fill=False, linestyle='--', color='white', linewidth=2)\n",
    "        ax.add_artist(circ)\n",
    "    \n",
    "    return (radii[ind])[0]"
   ]
  },
  {
   "cell_type": "code",
   "execution_count": null,
   "metadata": {},
   "outputs": [],
   "source": [
    "def conversions(h_size, ratio=False):\n",
    "    '''Converts from pixel units to kpc given two scale factors\n",
    "    \n",
    "    Parameters:\n",
    "    h_size <float>: half-size measurement in pixels\n",
    "    ratio <bool>: defaults to False. When True, estimates pixel scale of the hydro data \n",
    "                  file based on ratio of dimensions to allwav file\n",
    "    Returns:\n",
    "    result <astropy quantity>: half-size value in units of kpc\n",
    "    '''\n",
    "    z = hdr['Z']  # extracting redshift from header\n",
    "    scale = (Planck15.kpc_proper_per_arcmin(z)).to(u.kpc/u.arcsec)  # using Planck15 package to find scale at z=2\n",
    "    if ratio:\n",
    "        arc_scale = (data_wav[0].shape[0]/data[0].shape[0])*(hdr_wav['PIXSCALE']*u.arcsec*u.pix**(-1))\n",
    "    else:\n",
    "        arc_scale = hdr_wav['PIXSCALE']*u.arcsec*u.pix**(-1)\n",
    "        \n",
    "    result = h_size * u.pix * arc_scale * scale\n",
    "    return result"
   ]
  },
  {
   "cell_type": "code",
   "execution_count": null,
   "metadata": {},
   "outputs": [],
   "source": [
    "h_size = half_size(all_masses, position, plot=False)\n",
    "h_size"
   ]
  },
  {
   "cell_type": "code",
   "execution_count": null,
   "metadata": {},
   "outputs": [],
   "source": [
    "half_mass_size = conversions(h_size, True)\n",
    "half_mass_size"
   ]
  },
  {
   "cell_type": "code",
   "execution_count": null,
   "metadata": {},
   "outputs": [],
   "source": [
    "diff = []\n",
    "half = np.sum(all_masses)/2\n",
    "radii = np.linspace(1, 100, 1000)\n",
    "for i, rad in enumerate(radii):\n",
    "    aperture = CircularAperture(position, r=rad)\n",
    "    phot_table = aperture_photometry(all_masses, aperture)\n",
    "    value = phot_table['aperture_sum'][0]\n",
    "    d = value - half\n",
    "    diff.append(np.abs(d))\n",
    "ind = np.where(diff == min(diff))[0][0]"
   ]
  },
  {
   "cell_type": "code",
   "execution_count": null,
   "metadata": {},
   "outputs": [],
   "source": [
    "plt.figure(figsize=(10,7))\n",
    "plt.plot(radii, diff, color='black')\n",
    "plt.plot(radii[ind], diff[ind], 'p', markersize=8, color='black', \n",
    "         label='aperture radius = {}'.format(round(radii[ind], 2)))\n",
    "plt.legend(loc='lower right', fontsize=14)\n",
    "plt.grid(alpha=0.2)\n",
    "plt.xlabel('Aperture Radii', fontsize=20)\n",
    "plt.ylabel('|Half-Mass - Mass in Aperture|', fontsize=20)\n",
    "plt.title('Aperture Radius for Half-Mass Size', fontsize=20)\n",
    "plt.show()"
   ]
  },
  {
   "cell_type": "markdown",
   "metadata": {},
   "source": [
    "## Half-Light Size using Optical Light (1)"
   ]
  },
  {
   "cell_type": "code",
   "execution_count": null,
   "metadata": {},
   "outputs": [],
   "source": [
    "# finding half-light size using optical light of ~500nm\n",
    "pos = (210, 192)  # approximately center of galaxy\n",
    "h_size = half_size(blue, pos, plot=True)\n",
    "half_light = conversions(h_size, False)"
   ]
  },
  {
   "cell_type": "code",
   "execution_count": null,
   "metadata": {},
   "outputs": [],
   "source": [
    "print('The half-light size of the galaxy measure in optical light is:', half_light)\n",
    "print('The half-mass size of the galaxy is:', half_mass_size)"
   ]
  },
  {
   "cell_type": "markdown",
   "metadata": {},
   "source": [
    "## Measuring half-light sizes in all wavelengths (2,3)"
   ]
  },
  {
   "cell_type": "code",
   "execution_count": null,
   "metadata": {},
   "outputs": [],
   "source": [
    "half_light_sizes = np.empty(wavelengths.shape)\n",
    "for i in range(half_light_sizes.shape[0]):\n",
    "    dat = data_wav[i]\n",
    "    h_size = half_size(dat, pos, plot=False)\n",
    "    half_light = conversions(h_size, False)\n",
    "    half_light_sizes[i] = half_light.value"
   ]
  },
  {
   "cell_type": "code",
   "execution_count": null,
   "metadata": {},
   "outputs": [],
   "source": [
    "line = np.linspace(0.1, 1500, 2)\n",
    "plt.figure(figsize=(10,7))\n",
    "plt.plot(wavelengths, half_light_sizes, 'p', color='black')\n",
    "plt.plot(line, np.ones_like(line)*half_mass_size, '--', \n",
    "         color='crimson', label='Half-Mass Size')\n",
    "plt.xlabel(r'Wavelength [$\\mu$m]', fontsize=20)\n",
    "plt.ylabel('Half-Light Size [kpc]', fontsize=20)\n",
    "plt.title('Comparing Half-Light Sizes', fontsize=20)\n",
    "plt.grid(alpha=0.2)\n",
    "plt.xscale('log')\n",
    "plt.legend(fontsize=16)\n",
    "plt.ylim(3,14)\n",
    "#plt.savefig('sizes.pdf')\n",
    "plt.show()"
   ]
  },
  {
   "cell_type": "markdown",
   "metadata": {},
   "source": [
    "## Image of Galaxy on the Sky (4)"
   ]
  },
  {
   "cell_type": "code",
   "execution_count": null,
   "metadata": {},
   "outputs": [],
   "source": [
    "data_sky, hdr_sky = open_file('/galaxy_onsky_F160W.fits', path)"
   ]
  },
  {
   "cell_type": "code",
   "execution_count": null,
   "metadata": {},
   "outputs": [],
   "source": [
    "plt.figure(figsize=(10,7))\n",
    "plt.title('Sky Data of Galaxy', fontsize=20)\n",
    "plt.imshow(data_sky, origin='lower')\n",
    "plt.axis('off')\n",
    "#plt.savefig('sky.pdf')\n",
    "plt.show()"
   ]
  },
  {
   "cell_type": "markdown",
   "metadata": {},
   "source": [
    "# 3. Using statmorph"
   ]
  },
  {
   "cell_type": "markdown",
   "metadata": {},
   "source": [
    "## statmorph tutorial"
   ]
  },
  {
   "cell_type": "raw",
   "metadata": {},
   "source": [
    "ny, nx = 240, 240\n",
    "y, x = np.mgrid[0:ny, 0:nx]\n",
    "sersic_model = models.Sersic2D(amplitude=1, r_eff=20,\n",
    "                              n=2.5, x_0=120.5, y_0=96.5,\n",
    "                              ellip=0.5, theta=-0.5)\n",
    "image = sersic_model(x, y)\n",
    "plt.imshow(image, cmap='gray', origin='lower',\n",
    "          norm=simple_norm(image, stretch='log', log_a=10000))\n",
    "plt.title('Model Galaxy Image')\n",
    "plt.show()"
   ]
  },
  {
   "cell_type": "raw",
   "metadata": {},
   "source": [
    "size = 20\n",
    "sigma_psf = 2.0\n",
    "y, x = np.mgrid[-size:size+1, -size:size+1]\n",
    "psf = np.exp(-(x**2 + y**2)/(2.0*sigma_psf**2))\n",
    "psf /= np.sum(psf)\n",
    "plt.imshow(psf, origin='lower', cmap='gray')\n",
    "plt.title('Point Spread Function (PSF)')\n",
    "plt.show()"
   ]
  },
  {
   "cell_type": "raw",
   "metadata": {},
   "source": [
    "image = convolve(image, psf)\n",
    "plt.imshow(image, cmap='gray', origin='lower',\n",
    "          norm=simple_norm(image, stretch='log', log_a=10000))\n",
    "plt.title('Convolving Image with PSF')\n",
    "plt.show()"
   ]
  },
  {
   "cell_type": "raw",
   "metadata": {},
   "source": [
    "np.random.seed(1)\n",
    "snp = 100.0\n",
    "image += (1.0 / snp) * np.random.standard_normal(size=(nx, ny))\n",
    "plt.imshow(image, cmap='gray', origin='lower',\n",
    "          norm=simple_norm(image, stretch='log', log_a=10000))\n",
    "plt.title('With Noise')\n",
    "plt.show()"
   ]
  },
  {
   "cell_type": "raw",
   "metadata": {},
   "source": [
    "gain = 10000.0"
   ]
  },
  {
   "cell_type": "raw",
   "metadata": {},
   "source": [
    "threshold = photutils.detect_threshold(image, 1.5)\n",
    "npixels = 5  # minimum number of connected pixels\n",
    "segm = photutils.detect_sources(image, threshold, npixels)"
   ]
  },
  {
   "cell_type": "raw",
   "metadata": {},
   "source": [
    "# Keep only the largest segment\n",
    "label = np.argmax(segm.areas) + 1\n",
    "segmap = segm.data == label\n",
    "plt.imshow(segmap, origin='lower', cmap='gray')\n",
    "plt.title('Segmentation Map')\n",
    "plt.show()"
   ]
  },
  {
   "cell_type": "raw",
   "metadata": {},
   "source": [
    "segmap_float = ndi.uniform_filter(np.float64(segmap), size=10)\n",
    "segmap = segmap_float > 0.5\n",
    "plt.imshow(segmap, origin='lower', cmap='gray')\n",
    "plt.title('Regularized Segmentaion Map')\n",
    "plt.show()"
   ]
  },
  {
   "cell_type": "raw",
   "metadata": {},
   "source": [
    "source_morphs = statmorph.source_morphology(\n",
    "    image, segmap, gain=gain, psf=psf)\n",
    "morph = source_morphs[0]"
   ]
  },
  {
   "cell_type": "raw",
   "metadata": {},
   "source": [
    "# trying to extract some morphological parameters\n",
    "print('rhalf_circ =', morph.rhalf_circ)\n",
    "print('rhalf_ellip =', morph.rhalf_ellip)\n",
    "print('sersic_rhalf =', morph.sersic_rhalf)\n",
    "print('flag =', morph.flag)\n",
    "print('flag_sersic =', morph.flag_sersic)"
   ]
  },
  {
   "cell_type": "raw",
   "metadata": {},
   "source": [
    "# plotting the residuals\n",
    "ny, nx = image.shape\n",
    "y, x = np.mgrid[0:ny, 0:nx]\n",
    "fitted_model = statmorph.ConvolvedSersic2D(\n",
    "    amplitude=morph.sersic_amplitude,\n",
    "    r_eff=morph.sersic_rhalf,\n",
    "    n=morph.sersic_n,\n",
    "    x_0=morph.sersic_xc,\n",
    "    y_0=morph.sersic_yc,\n",
    "    ellip=morph.sersic_ellip,\n",
    "    theta=morph.sersic_theta)\n",
    "fitted_model.set_psf(psf)  # required when using ConvolvedSersic2D\n",
    "image_model = fitted_model(x, y)\n",
    "bg_noise = (1.0 / snp) * np.random.standard_normal(size=(ny, nx))\n",
    "fig = plt.figure(figsize=(15,5))\n",
    "ax = fig.add_subplot(131)\n",
    "ax.imshow(image, cmap='gray', origin='lower',\n",
    "           norm=simple_norm(image, stretch='log', log_a=10000))\n",
    "ax.set_title('Original image')\n",
    "ax = fig.add_subplot(132)\n",
    "ax.imshow(image_model + bg_noise, cmap='gray', origin='lower',\n",
    "           norm=simple_norm(image, stretch='log', log_a=10000))\n",
    "ax.set_title('Fitted model')\n",
    "ax = fig.add_subplot(133)\n",
    "residual = image - image_model\n",
    "ax.imshow(residual, cmap='gray', origin='lower',\n",
    "           norm=simple_norm(residual, stretch='linear'))\n",
    "ax.set_title('Residual')\n",
    "plt.show()"
   ]
  },
  {
   "cell_type": "raw",
   "metadata": {},
   "source": [
    "fig = make_figure(morph)"
   ]
  },
  {
   "cell_type": "raw",
   "metadata": {},
   "source": [
    "plt.close(fig)"
   ]
  },
  {
   "cell_type": "markdown",
   "metadata": {},
   "source": [
    "## Using statmorph to measure morphological parameters of example galaxy"
   ]
  },
  {
   "cell_type": "code",
   "execution_count": null,
   "metadata": {},
   "outputs": [],
   "source": [
    "threshold = photutils.detect_threshold(data_sky, 3)\n",
    "npixels = 10  # minimum number of connected pixels\n",
    "segm = photutils.detect_sources(data_sky, threshold, npixels)"
   ]
  },
  {
   "cell_type": "code",
   "execution_count": null,
   "metadata": {},
   "outputs": [],
   "source": [
    "label = np.argmax(segm.areas) + 1\n",
    "segmap = segm.data == label\n",
    "plt.imshow(segmap, origin='lower', cmap='gray')\n",
    "plt.show()"
   ]
  },
  {
   "cell_type": "code",
   "execution_count": null,
   "metadata": {},
   "outputs": [],
   "source": [
    "segmap_float = ndi.uniform_filter(np.float64(segmap), size=10)\n",
    "segmap = segmap_float > 0.5\n",
    "plt.figure(figsize=(10,7))\n",
    "plt.imshow(segmap, origin='lower', cmap='gray')\n",
    "plt.axis('off')\n",
    "plt.title('Segmentation Map for the Main Source', fontsize=20)\n",
    "#plt.savefig('seg.pdf')\n",
    "plt.show()"
   ]
  },
  {
   "cell_type": "code",
   "execution_count": null,
   "metadata": {},
   "outputs": [],
   "source": [
    "gain=1.5 # from https://www.stsci.edu/itt/APT_help20/WFC3/c05_detector5.html\n",
    "source_morphs = statmorph.source_morphology(\n",
    "    data_sky, segmap, gain=gain)"
   ]
  },
  {
   "cell_type": "code",
   "execution_count": null,
   "metadata": {},
   "outputs": [],
   "source": [
    "morph = source_morphs[0]"
   ]
  },
  {
   "cell_type": "code",
   "execution_count": null,
   "metadata": {},
   "outputs": [],
   "source": [
    "print('xc_centroid =', morph.xc_centroid)\n",
    "print('yc_centroid =', morph.yc_centroid)\n",
    "print('ellipticity_centroid =', morph.ellipticity_centroid)\n",
    "print('elongation_centroid =', morph.elongation_centroid)\n",
    "print('orientation_centroid =', morph.orientation_centroid)\n",
    "print('xc_asymmetry =', morph.xc_asymmetry)\n",
    "print('yc_asymmetry =', morph.yc_asymmetry)\n",
    "print('ellipticity_asymmetry =', morph.ellipticity_asymmetry)\n",
    "print('elongation_asymmetry =', morph.elongation_asymmetry)\n",
    "print('orientation_asymmetry =', morph.orientation_asymmetry)\n",
    "print('rpetro_circ =', morph.rpetro_circ)\n",
    "print('rpetro_ellip =', morph.rpetro_ellip)\n",
    "print('rhalf_circ =', morph.rhalf_circ)\n",
    "print('rhalf_ellip =', morph.rhalf_ellip)\n",
    "print('r20 =', morph.r20)\n",
    "print('r80 =', morph.r80)\n",
    "print('Gini =', morph.gini)\n",
    "print('M20 =', morph.m20)\n",
    "print('F(G, M20) =', morph.gini_m20_bulge)\n",
    "print('S(G, M20) =', morph.gini_m20_merger)\n",
    "print('sn_per_pixel =', morph.sn_per_pixel)\n",
    "print('C =', morph.concentration)\n",
    "print('A =', morph.asymmetry)\n",
    "print('S =', morph.smoothness)\n",
    "print('sersic_amplitude =', morph.sersic_amplitude)\n",
    "print('sersic_rhalf =', morph.sersic_rhalf)\n",
    "print('sersic_n =', morph.sersic_n)\n",
    "print('sersic_xc =', morph.sersic_xc)\n",
    "print('sersic_yc =', morph.sersic_yc)\n",
    "print('sersic_ellip =', morph.sersic_ellip)\n",
    "print('sersic_theta =', morph.sersic_theta)\n",
    "print('sky_mean =', morph.sky_mean)\n",
    "print('sky_median =', morph.sky_median)\n",
    "print('sky_sigma =', morph.sky_sigma)\n",
    "print('flag =', morph.flag)\n",
    "print('flag_sersic =', morph.flag_sersic)"
   ]
  },
  {
   "cell_type": "code",
   "execution_count": null,
   "metadata": {},
   "outputs": [],
   "source": [
    "fig = make_figure(morph)"
   ]
  },
  {
   "cell_type": "code",
   "execution_count": null,
   "metadata": {},
   "outputs": [],
   "source": [
    "plt.close(fig)"
   ]
  },
  {
   "cell_type": "code",
   "execution_count": null,
   "metadata": {},
   "outputs": [],
   "source": []
  }
 ],
 "metadata": {
  "kernelspec": {
   "display_name": "Python 3",
   "language": "python",
   "name": "python3"
  },
  "language_info": {
   "codemirror_mode": {
    "name": "ipython",
    "version": 3
   },
   "file_extension": ".py",
   "mimetype": "text/x-python",
   "name": "python",
   "nbconvert_exporter": "python",
   "pygments_lexer": "ipython3",
   "version": "3.7.3"
  }
 },
 "nbformat": 4,
 "nbformat_minor": 2
}
